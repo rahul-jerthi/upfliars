{
 "cells": [
  {
   "cell_type": "markdown",
   "id": "6014eb25",
   "metadata": {},
   "source": [
    "<p style=\"text-align:center;\"><b>Rahul Kumar Jangir</b><br>\n",
    "    <i>Assignment 1 {GenAi} </i></p>"
   ]
  },
  {
   "cell_type": "markdown",
   "id": "00824e54",
   "metadata": {},
   "source": [
    "# Data Types"
   ]
  },
  {
   "cell_type": "markdown",
   "id": "f1cbce4a",
   "metadata": {},
   "source": [
    "### How do lists and tuples differ in terms of mutability and performance? When would you choose one over the other?"
   ]
  },
  {
   "cell_type": "code",
   "execution_count": 7,
   "id": "5cde92d2",
   "metadata": {},
   "outputs": [],
   "source": [
    "# List is mutable (you can change it after creation).\n",
    "\n",
    "# Tuple is immutable (you cannot change it after creation).\n",
    "\n",
    "# Performance: Tuples are faster and use less memory than lists.\n",
    "\n",
    "# Use list when you need to modify data.\n",
    "\n",
    "# Use tuple when you want to protect data or for faster access."
   ]
  },
  {
   "cell_type": "markdown",
   "id": "d4f275ea",
   "metadata": {},
   "source": [
    "###  Explain how Python handles type conversion between different data types, such as between integers and floats or between strings and lists.\n"
   ]
  },
  {
   "cell_type": "code",
   "execution_count": 8,
   "id": "1427cac6",
   "metadata": {},
   "outputs": [],
   "source": [
    "# Python uses type casting to convert one type to another.\n",
    "\n",
    "# Example:\n",
    "\n",
    "# int(3.5) → 3 (float to int)\n",
    "\n",
    "# float(5) → 5.0 (int to float)\n",
    "\n",
    "# list(\"hello\") → ['h', 'e', 'l', 'l', 'o'] (string to list)\n",
    "\n",
    "# str(123) → '123' (int to string)\n",
    "\n",
    "# It automatically converts types when needed, called implicit conversion."
   ]
  },
  {
   "cell_type": "markdown",
   "id": "fd71e951",
   "metadata": {},
   "source": [
    "### What are the key differences between Python’s `list`, `set`, and `dictionary` data types? Provide examples of scenarios where each would be the most appropriate choice."
   ]
  },
  {
   "cell_type": "code",
   "execution_count": 9,
   "id": "3630e891",
   "metadata": {},
   "outputs": [],
   "source": [
    "# List: Ordered, allows duplicates.\n",
    "\n",
    "# Use when order matters and duplicates are okay.\n",
    "\n",
    "# Set: Unordered, no duplicates.\n",
    "\n",
    "# Use when you want to store unique values.\n",
    "\n",
    "# Dictionary: Key-value pairs.\n",
    "\n",
    "# Use when you want to map data, like names to ages."
   ]
  },
  {
   "cell_type": "markdown",
   "id": "c29e97ac",
   "metadata": {},
   "source": [
    "### Discuss the role of the `__repr__` and `__str__` methods in custom data types. How do they differ, and when should you implement them?"
   ]
  },
  {
   "cell_type": "code",
   "execution_count": 10,
   "id": "da3177d5",
   "metadata": {},
   "outputs": [],
   "source": [
    "# Role of __repr__ and __str__ in custom data types\n",
    "# __str__: Used to print user-friendly string. Example: print(object)\n",
    "\n",
    "# __repr__: Used for developers. It shows detailed info about the object.\n",
    "\n",
    "# Use __str__ for users, __repr__ for debugging.\n",
    "\n"
   ]
  },
  {
   "cell_type": "markdown",
   "id": "98cc5eb1",
   "metadata": {},
   "source": [
    "### How does Python handle large integers? Explain the difference between `int` in Python 2 and Python 3."
   ]
  },
  {
   "cell_type": "code",
   "execution_count": 11,
   "id": "b6854369",
   "metadata": {},
   "outputs": [],
   "source": [
    "# Python 3: All integers are of type int, and can be very large.\n",
    "\n",
    "# Python 2: Had separate int and long types.\n",
    "\n",
    "# Python 3 automatically handles large numbers with no overflow."
   ]
  },
  {
   "cell_type": "markdown",
   "id": "14cbebe7",
   "metadata": {},
   "source": [
    "# Operators"
   ]
  },
  {
   "cell_type": "markdown",
   "id": "ff30a4b2",
   "metadata": {},
   "source": [
    "### What is the difference between the `+=` operator and the `+` operator in Python when used with mutable and immutable types?\n",
    " \n"
   ]
  },
  {
   "cell_type": "code",
   "execution_count": 12,
   "id": "ddc6ed10",
   "metadata": {},
   "outputs": [],
   "source": [
    "# + creates a new object.\n",
    "\n",
    "# += adds to the same object (if mutable).\n",
    "\n",
    "# Example with list (mutable):\n",
    "\n",
    "# a = [1], a += [2] → a becomes [1, 2] (changed in place).\n",
    "\n",
    "# Example with string (immutable):\n",
    "\n",
    "# s = \"Hi\", s += \"!\" → creates a new string \"Hi!"
   ]
  },
  {
   "cell_type": "markdown",
   "id": "fc86fe17",
   "metadata": {},
   "source": [
    "### Explain the purpose and use of the `in` operator in Python. How does it behave differently when used with different data types, such as strings, lists, and dictionaries?\n",
    " \n",
    " \n"
   ]
  },
  {
   "cell_type": "code",
   "execution_count": 13,
   "id": "9ead65d7",
   "metadata": {},
   "outputs": [],
   "source": [
    "# Checks if an item is present.\n",
    "\n",
    "# With string: 'a' in 'cat' → True\n",
    "\n",
    "# With list: 2 in [1, 2, 3] → True\n",
    "\n",
    "# With dictionary: Checks keys, not values. 'name' in {'name': 'Rahul'} → True"
   ]
  },
  {
   "cell_type": "markdown",
   "id": "4847d4c4",
   "metadata": {},
   "source": [
    "### How do the bitwise operators (`&`, `|`, `^`, `~`, `<<`, `>>`) work in Python? Provide examples of their usage.\n",
    " \n"
   ]
  },
  {
   "cell_type": "code",
   "execution_count": 14,
   "id": "ff31786a",
   "metadata": {},
   "outputs": [],
   "source": [
    "# &: AND → 5 & 3 → 1\n",
    "\n",
    "# |: OR → 5 | 3 → 7\n",
    "\n",
    "# ^: XOR → 5 ^ 3 → 6\n",
    "\n",
    "# ~: NOT → ~5 → -6\n",
    "\n",
    "# <<: Left Shift → 2 << 1 → 4\n",
    "\n",
    "# >>: Right Shift → 4 >> 1 → 2"
   ]
  },
  {
   "cell_type": "markdown",
   "id": "331d9f61",
   "metadata": {},
   "source": [
    "### What are augmented assignment operators, and how do they work in Python? Give examples with `+=`, `-=`, and `*=`.\n",
    " \n",
    " \n"
   ]
  },
  {
   "cell_type": "code",
   "execution_count": 15,
   "id": "218091c2",
   "metadata": {},
   "outputs": [],
   "source": [
    "# Shortcuts for writing expressions.\n",
    "\n",
    "# x += 2 → x = x + 2\n",
    "\n",
    "# y -= 3 → y = y - 3\n",
    "\n",
    "# z *= 4 → z = z * 4\n",
    "\n",
    "# Helps to write cleaner and faster code."
   ]
  },
  {
   "cell_type": "markdown",
   "id": "e4385c52",
   "metadata": {},
   "source": [
    "### How does Python’s `is` operator differ from `==`, especially in terms of comparing lists, strings, and other complex data types"
   ]
  },
  {
   "cell_type": "code",
   "execution_count": 16,
   "id": "f5ce567d",
   "metadata": {},
   "outputs": [],
   "source": [
    "#  == checks value (are they equal?).\n",
    "\n",
    "# is checks identity (same memory location?).\n",
    "\n",
    "# Example:\n",
    "\n",
    "# a = [1, 2], b = [1, 2]\n",
    "\n",
    "# a == b → True (same values)\n",
    "\n",
    "# a is b → False (different objects)"
   ]
  }
 ],
 "metadata": {
  "kernelspec": {
   "display_name": "Python 3",
   "language": "python",
   "name": "python3"
  },
  "language_info": {
   "codemirror_mode": {
    "name": "ipython",
    "version": 3
   },
   "file_extension": ".py",
   "mimetype": "text/x-python",
   "name": "python",
   "nbconvert_exporter": "python",
   "pygments_lexer": "ipython3",
   "version": "3.9.6"
  }
 },
 "nbformat": 4,
 "nbformat_minor": 5
}
