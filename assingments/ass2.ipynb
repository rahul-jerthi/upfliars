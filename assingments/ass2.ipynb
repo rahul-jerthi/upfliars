{
 "cells": [
  {
   "cell_type": "markdown",
   "id": "d6521f33",
   "metadata": {},
   "source": [
    "<p style=\"text-align:center;\"><b>Rahul Kumar Jangir</b><br>\n",
    "    <i>Assignment 2 {GenAi} </i></p>"
   ]
  },
  {
   "cell_type": "markdown",
   "id": "16a52baa",
   "metadata": {},
   "source": [
    "### 1. How do `if-elif-else` statements work in Python? Provide an example where multiple conditions must be checked and explain the flow of control.\n",
    "  Coding Challenge:Write a function that takes a number as input and returns \"Positive\", \"Negative\", or \"Zero\" based on the input value.\n",
    " \n"
   ]
  },
  {
   "cell_type": "code",
   "execution_count": null,
   "id": "71bf02df",
   "metadata": {},
   "outputs": [],
   "source": [
    "# Used to check multiple conditions.\n",
    "# Python checks conditions top to bottom.\n",
    "# As soon as one condition is True, it runs that block and skips the rest.\n",
    "# If none of the conditions are true, the else block runs.\n",
    "# Python checks the if condition first.\n",
    "# If if is False, it checks elif.\n",
    "# If all elif are False, it runs else.\n"
   ]
  },
  {
   "cell_type": "code",
   "execution_count": 3,
   "id": "2a830cb4",
   "metadata": {},
   "outputs": [
    {
     "name": "stdout",
     "output_type": "stream",
     "text": [
      "The number is negative.\n"
     ]
    }
   ],
   "source": [
    "#Coding Exercise 1\n",
    "num = int(input(\"Enter a number: \"))\n",
    "if num > 0:\n",
    "    print(\"The number is positive.\")\n",
    "elif num < 0:\n",
    "    print(\"The number is negative.\")\n",
    "else:\n",
    "    print(\"The number is zero.\")"
   ]
  },
  {
   "cell_type": "markdown",
   "id": "3ccee285",
   "metadata": {},
   "source": [
    "### 2. What is the difference between `for` loops and `while` loops in terms of conditional checks? When would you prefer one over the other?\n",
    "  - Coding Challenge: Write a Python script to print all prime numbers between 1 and 100 using a `for` loop.\n",
    " \n"
   ]
  },
  {
   "cell_type": "code",
   "execution_count": null,
   "id": "8e2cfe21",
   "metadata": {},
   "outputs": [],
   "source": [
    "# for loop:\n",
    "# Used when you know in advance how many times to loop.\n",
    "# Iterates over a sequence like a list, string, or range.\n",
    "# Condition is checked automatically at each step.\n",
    "\n",
    "#While loop:\n",
    "# Used when you don’t know how many times to loop.\n",
    "# Runs as long as a condition is True.\n",
    "# You must update the condition manually to avoid infinite loops.\n",
    "\n",
    "# | Use `for` loop when…                | Use `while` loop when…           |\n",
    "# | ----------------------------------- | -------------------------------- |\n",
    "# | You know how many times to repeat   | You don’t know how many times    |\n",
    "# | You’re looping over items/sequences | You’re waiting for a condition   |\n",
    "# | You want simpler, shorter syntax    | You want more **flexible** logic |\n"
   ]
  },
  {
   "cell_type": "code",
   "execution_count": null,
   "id": "6532b03c",
   "metadata": {},
   "outputs": [],
   "source": [
    "#Coding Exercise 2\n",
    "\n",
    "for i in range(1,101):\n",
    "    is_prime = True\n",
    "      \n",
    "    for j in range(2,101):\n",
    "        if i % j == 0 and i != j:\n",
    "            is_prime = False\n",
    "            break\n",
    "    if is_prime:\n",
    "        print(i)\n",
    "    \n"
   ]
  },
  {
   "cell_type": "markdown",
   "id": "f689df04",
   "metadata": {},
   "source": [
    "### 3. Explain how nested `if` statements work in Python. How can you avoid deep nesting to make your code more readable?\n",
    "  - Coding Challenge: Write a function that takes three numbers as input and returns the largest of the three using nested `if` statements.\n",
    " \n"
   ]
  },
  {
   "cell_type": "code",
   "execution_count": 17,
   "id": "d86985bc",
   "metadata": {},
   "outputs": [],
   "source": [
    "# It's an if statement inside another if.\n",
    "# Used when you need to check multiple levels of conditions.\n",
    "# Too many levels of if inside if makes code hard to read and confusing.\n",
    "\n",
    "\n",
    "#  Use and / or operators\n",
    "#   Use return or exit() early in functions"
   ]
  },
  {
   "cell_type": "code",
   "execution_count": null,
   "id": "47adf952",
   "metadata": {},
   "outputs": [
    {
     "name": "stdout",
     "output_type": "stream",
     "text": [
      "The largest number is: 2099\n"
     ]
    }
   ],
   "source": [
    "#Coding Exercise 3\n",
    "num1 = 10\n",
    "num2 = 2099\n",
    "num3 = 300\n",
    "\n",
    "if num1 >= num2:\n",
    "    if num1 >= num3:\n",
    "        largest = num1\n",
    "    else:\n",
    "        largest = num3\n",
    "else:\n",
    "    if num2 >= num3:\n",
    "        largest = num2\n",
    "    else:\n",
    "        largest = num3\n",
    "print(f\"The largest number is: {largest}\")\n",
    "    \n"
   ]
  },
  {
   "cell_type": "markdown",
   "id": "0b81a776",
   "metadata": {},
   "source": [
    "### 4. What are the potential risks of using `break` in loops? How does it affect loop execution and what alternatives can you use?\n",
    "  - Coding Challenge: Write a Python program that reads numbers from the user until they input a negative number. The program should then print the sum of all positive numbers entered.\n",
    " \n"
   ]
  },
  {
   "cell_type": "code",
   "execution_count": null,
   "id": "3fbddc74",
   "metadata": {},
   "outputs": [],
   "source": [
    "# break is used to stop a loop immediately, even if the condition is not yet false.\n",
    "\n",
    "# Potential Risks of Using break:\n",
    "#  Unexpected exit: May stop the loop too early if not used carefully.\n",
    "#  Hard to read/debug: Code becomes less predictable and harder to follow.\n",
    "#  Skipping important steps: Some operations after break may never run."
   ]
  },
  {
   "cell_type": "code",
   "execution_count": 20,
   "id": "425c4604",
   "metadata": {},
   "outputs": [],
   "source": [
    "#coding Exercise 4\n",
    "while True:\n",
    "    num = int(input(\"Enter a number: \"))\n",
    "    if num<0:\n",
    "        break\n",
    "    \n",
    "    "
   ]
  },
  {
   "cell_type": "markdown",
   "id": "503d6f8c",
   "metadata": {},
   "source": [
    "### 5. How does the `else` clause in a loop work, and how does it differ from the `else` in conditional statements?\n",
    "  - Coding Challenge: Write a function that searches for a specific element in a list using a `for` loop. If the element is found, return its index; if not, return -1 using the `else` clause in the loop.\n",
    " \n"
   ]
  },
  {
   "cell_type": "code",
   "execution_count": null,
   "id": "b66e413b",
   "metadata": {},
   "outputs": [],
   "source": [
    "# Runs only if the loop finishes normally (i.e., not broken with break).\n",
    "# Used to handle cases when no break happened.\n",
    "# for num in range(5):\n",
    "#     if num == 3:\n",
    "#         break\n",
    "#     print(num)\n",
    "# else:\n",
    "#     print(\"Loop finished without break.\")\n"
   ]
  },
  {
   "cell_type": "code",
   "execution_count": 22,
   "id": "105cc060",
   "metadata": {},
   "outputs": [
    {
     "name": "stdout",
     "output_type": "stream",
     "text": [
      "2\n"
     ]
    }
   ],
   "source": [
    "#coding Exercise 5\n",
    "#return index of item in list\n",
    "item = \"Banana\"\n",
    "lst = [\"Mango\", \"Apple\", \"Banana\", \"Orange\"]\n",
    "for items in lst:\n",
    "    if items == item:\n",
    "        print(lst.index(items))\n",
    "    # else:\n",
    "        # return -1    "
   ]
  },
  {
   "cell_type": "markdown",
   "id": "2915cc69",
   "metadata": {},
   "source": [
    "### 6. What is a common pitfall when using floating-point numbers in conditional statements? How can you avoid it?\n",
    "  - Coding Challenge: Write a Python function that compares two floating-point numbers and returns `True` if they are approximately equal, considering a small tolerance value.\n",
    " \n"
   ]
  },
  {
   "cell_type": "code",
   "execution_count": null,
   "id": "37234922",
   "metadata": {},
   "outputs": [],
   "source": [
    "# Floating-point numbers (like 0.1, 0.2, etc.) are not always stored exactly in memory.\n",
    "\n",
    "# This can lead to unexpected results in conditions.\n",
    "\n",
    "# x = 0.1 + 0.2\n",
    "# print(x == 0.3)  # Output: False\n",
    "# You expect 0.1 + 0.2 == 0.3, but it prints False because x is actually 0.30000000000000004."
   ]
  },
  {
   "cell_type": "code",
   "execution_count": null,
   "id": "b45e9346",
   "metadata": {},
   "outputs": [
    {
     "name": "stdout",
     "output_type": "stream",
     "text": [
      "True\n"
     ]
    }
   ],
   "source": [
    "x = 2.1088\n",
    "y = 2.1088\n",
    "print(x == y)  "
   ]
  },
  {
   "cell_type": "markdown",
   "id": "324f5bdf",
   "metadata": {},
   "source": [
    "### 7. How can you combine `for` loops and `if` statements to filter and process data in Python?\n",
    "  - Coding Challenge: Given a list of integers, write a Python program that uses a `for` loop and `if` statements to create a new list containing only the even numbers.\n",
    " \n"
   ]
  },
  {
   "cell_type": "code",
   "execution_count": 29,
   "id": "13ea582b",
   "metadata": {},
   "outputs": [],
   "source": [
    "#  Combining for and if: What it means\n",
    "# You use a for loop to go through each item in a list or data.\n",
    "# You use an if statement to filter the data (choose only what you want).\n",
    "# Then you process only the items that match your condition."
   ]
  },
  {
   "cell_type": "code",
   "execution_count": 30,
   "id": "089788f3",
   "metadata": {},
   "outputs": [
    {
     "name": "stdout",
     "output_type": "stream",
     "text": [
      "[2, 4, 6, 8, 10]\n"
     ]
    }
   ],
   "source": [
    "numbers = [1, 2, 3, 4, 5, 6, 7, 8, 9, 10]\n",
    "even_numbers = []\n",
    "for number in numbers:\n",
    "    if number % 2 == 0:\n",
    "        even_numbers.append(number)\n",
    "print(even_numbers)        "
   ]
  },
  {
   "cell_type": "markdown",
   "id": "393815e8",
   "metadata": {},
   "source": [
    "### 8. Discuss the concept of short-circuit evaluation in Python. How does it affect the performance of conditional statements?\n",
    "  - Coding Challenge: Write a function that takes three boolean values and returns `True` if at least two of them are `True`, using short-circuit evaluation.\n",
    " \n"
   ]
  },
  {
   "cell_type": "code",
   "execution_count": 32,
   "id": "6a2b5fd3",
   "metadata": {},
   "outputs": [],
   "source": [
    "# Python stops checking conditions as soon as it knows the result.\n",
    "# It works with and and or logical operators.\n",
    "\n",
    "\n",
    "\n",
    "# Saves time by skipping unnecessary checks.\n",
    "# Avoids errors that might happen in skipped parts\n",
    "#  Makes conditions faster and safer."
   ]
  },
  {
   "cell_type": "markdown",
   "id": "8efc218c",
   "metadata": {},
   "source": [
    "### 9. Explain how the `continue` statement works in a loop. What are some scenarios where using `continue` is more beneficial than restructuring the loop?\n",
    "  - Coding Challenge: Write a Python program that iterates through a list of numbers and prints only those numbers that are divisible by 3, using the `continue` statement.\n",
    " \n"
   ]
  },
  {
   "cell_type": "code",
   "execution_count": null,
   "id": "76786a9a",
   "metadata": {},
   "outputs": [],
   "source": [
    "# continue is used to skip the current iteration of a loop.\n",
    "# The loop does not stop, it just moves to the next item.\n",
    "\n",
    "# The rest of the code inside the loop after continue is not executed.\n",
    "# The loop jumps to the next iteration directly."
   ]
  },
  {
   "cell_type": "code",
   "execution_count": null,
   "id": "2211d463",
   "metadata": {},
   "outputs": [
    {
     "name": "stdout",
     "output_type": "stream",
     "text": [
      "3\n",
      "6\n",
      "9\n"
     ]
    }
   ],
   "source": [
    "lst = [1, 2, 3, 4, 5, 6, 7, 8, 9, 10]\n",
    "for num in lst:\n",
    "    if num % 3 != 0:\n",
    "        continue\n",
    "    print(num)\n",
    "    "
   ]
  },
  {
   "cell_type": "markdown",
   "id": "5b42c280",
   "metadata": {},
   "source": [
    "### 10. How can you use list comprehensions in combination with conditional statements to make your code more concise?\n",
    "   - Coding Challenge: Write a list comprehension that generates a list of squares of all even numbers between 1 and 20."
   ]
  },
  {
   "cell_type": "code",
   "execution_count": null,
   "id": "655152b5",
   "metadata": {},
   "outputs": [],
   "source": [
    "# A shorter way to create lists using a for loop and optional if condition.\n",
    "\n",
    "# [expression for item in iterable if condition]\n",
    "\n",
    "# even_numbers = []\n",
    "# for num in range(10):\n",
    "#     if num % 2 == 0:\n",
    "#         even_numbers.append(num)\n",
    "\n",
    "# even_numbers = [num for num in range(10) if num % 2 == 0]\n"
   ]
  },
  {
   "cell_type": "code",
   "execution_count": 15,
   "id": "45174ee5",
   "metadata": {},
   "outputs": [
    {
     "name": "stdout",
     "output_type": "stream",
     "text": [
      "4.0\n",
      "16.0\n",
      "36.0\n",
      "64.0\n",
      "100.0\n"
     ]
    }
   ],
   "source": [
    "import math\n",
    "lst = [1, 2, 3, 4, 5, 6, 7, 8, 9, 10]\n",
    "even_numbers = [num for num in lst if num % 2 == 0]\n",
    "\n",
    "for num in even_numbers:\n",
    "    print(math.pow(num, 2))\n"
   ]
  },
  {
   "cell_type": "code",
   "execution_count": null,
   "id": "5e614d10",
   "metadata": {},
   "outputs": [],
   "source": []
  }
 ],
 "metadata": {
  "kernelspec": {
   "display_name": "Python 3",
   "language": "python",
   "name": "python3"
  },
  "language_info": {
   "codemirror_mode": {
    "name": "ipython",
    "version": 3
   },
   "file_extension": ".py",
   "mimetype": "text/x-python",
   "name": "python",
   "nbconvert_exporter": "python",
   "pygments_lexer": "ipython3",
   "version": "3.9.6"
  }
 },
 "nbformat": 4,
 "nbformat_minor": 5
}
